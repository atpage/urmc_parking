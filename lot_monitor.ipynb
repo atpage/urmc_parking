{
 "cells": [
  {
   "cell_type": "code",
   "execution_count": 1,
   "metadata": {},
   "outputs": [],
   "source": [
    "import requests\n",
    "from bs4 import BeautifulSoup\n",
    "import re\n",
    "import datetime as dt\n",
    "import time\n",
    "\n",
    "from sqlalchemy.ext.declarative import declarative_base\n",
    "from sqlalchemy import create_engine\n",
    "from sqlalchemy.orm import sessionmaker\n",
    "from sqlalchemy import Column, String, DateTime, Integer\n",
    "\n",
    "%load_ext autoreload\n",
    "%autoreload 2"
   ]
  },
  {
   "cell_type": "markdown",
   "metadata": {},
   "source": [
    "# Setup"
   ]
  },
  {
   "cell_type": "code",
   "execution_count": 2,
   "metadata": {},
   "outputs": [],
   "source": [
    "url = 'https://www.rochester.edu/parking/mobile/lots.php'\n",
    "payload = {'campus': 'URMC'}\n",
    "\n",
    "delay = 60*5  # seconds to wait between requests\n",
    "timeout = 30  # how long to wait for page to load"
   ]
  },
  {
   "cell_type": "markdown",
   "metadata": {},
   "source": [
    "# Database"
   ]
  },
  {
   "cell_type": "code",
   "execution_count": 3,
   "metadata": {},
   "outputs": [],
   "source": [
    "Base = declarative_base()\n",
    "\n",
    "class OpenSpaces(Base):\n",
    "    __tablename__ = 'open_spaces'\n",
    "    id            = Column(Integer, primary_key=True)\n",
    "    checked_gmt   = Column(DateTime, index=True)\n",
    "    lot           = Column(String, index=True)\n",
    "    spaces        = Column(Integer)\n",
    "    # TODO?: different index setup"
   ]
  },
  {
   "cell_type": "markdown",
   "metadata": {},
   "source": [
    "# Functions"
   ]
  },
  {
   "cell_type": "code",
   "execution_count": 4,
   "metadata": {},
   "outputs": [],
   "source": [
    "def get_page():\n",
    "    r = requests.get(url, params=payload, timeout=timeout)\n",
    "    if r.status_code != 200:\n",
    "        raise RuntimeError(\"failed to get %s\" % url)\n",
    "    return r.text"
   ]
  },
  {
   "cell_type": "code",
   "execution_count": 5,
   "metadata": {},
   "outputs": [],
   "source": [
    "def parse_spaces(spaces):\n",
    "    \"\"\"convert a string like 'Open Spaces  315' into an integer like 315\"\"\"\n",
    "    if 'Open Spaces' not in spaces:\n",
    "        return 0\n",
    "#     if 'Full' in spaces:\n",
    "#         return 0\n",
    "    nspaces = re.search(r'[\\d]+', spaces)\n",
    "    if nspaces is None:\n",
    "        return 0\n",
    "    return int(nspaces.group(0))"
   ]
  },
  {
   "cell_type": "code",
   "execution_count": 6,
   "metadata": {},
   "outputs": [],
   "source": [
    "def get_current_status():\n",
    "    lot_status = {}\n",
    "    page_text = get_page()\n",
    "    soup = BeautifulSoup(page_text, 'html.parser')\n",
    "    parking_list_html = soup.find(id=\"parking-list\")\n",
    "    for lot in parking_list_html.find_all(\"tr\"):\n",
    "        columns = lot.find_all(\"td\")\n",
    "        if len(columns) != 2:\n",
    "            raise RuntimeError(\"page not formatted as expected\")\n",
    "        lot, spaces = [c.get_text().strip() for c in columns]\n",
    "        spaces = parse_spaces(spaces)\n",
    "        lot_status[lot] = spaces\n",
    "    return lot_status    "
   ]
  },
  {
   "cell_type": "markdown",
   "metadata": {},
   "source": [
    "# Main loop"
   ]
  },
  {
   "cell_type": "code",
   "execution_count": 7,
   "metadata": {},
   "outputs": [],
   "source": [
    "def main_loop(session):\n",
    "    while True:\n",
    "        time.sleep(delay)\n",
    "        try:\n",
    "            status = get_current_status()\n",
    "        except:\n",
    "            print(\"failed to get lot status at %s\" % dt.datetime.now())\n",
    "            continue\n",
    "        checked_time = dt.datetime.utcnow()  # TODO?: look at response header for time too/instead\n",
    "        for lot in status:\n",
    "            row = OpenSpaces(\n",
    "                checked_gmt = checked_time,\n",
    "                lot         = lot,\n",
    "                spaces      = status[lot],\n",
    "            )\n",
    "            session.add(row)\n",
    "        session.commit()"
   ]
  },
  {
   "cell_type": "code",
   "execution_count": null,
   "metadata": {},
   "outputs": [],
   "source": [
    "#if __name__ == '__main__':\n",
    "\n",
    "# set up connection:\n",
    "engine = create_engine('sqlite:///parking.db')\n",
    "Session = sessionmaker(bind=engine)\n",
    "session = Session()\n",
    "\n",
    "# create tables:\n",
    "Base.metadata.create_all(engine)\n",
    "\n",
    "# watch the feed:\n",
    "main_loop(session)"
   ]
  },
  {
   "cell_type": "markdown",
   "metadata": {},
   "source": [
    "# Testing:"
   ]
  },
  {
   "cell_type": "code",
   "execution_count": 63,
   "metadata": {},
   "outputs": [],
   "source": [
    "status = get_current_status()"
   ]
  },
  {
   "cell_type": "code",
   "execution_count": 64,
   "metadata": {},
   "outputs": [
    {
     "data": {
      "text/plain": [
       "{'Lot 1 Crittenden': 0,\n",
       " 'Lot 11 Crittenden Evening': 132,\n",
       " 'Lot 12 Crittenden Reserved': 89,\n",
       " 'Lot 13 Hospital Garage': 312,\n",
       " 'Lot 14 Saunders': 36,\n",
       " 'Lot 2 Lattimore': 221,\n",
       " 'Lot 24 Scottsville Road': 389,\n",
       " 'Lot 3 Kendrick North': 58,\n",
       " 'Lot 33 College Town Garage': 302,\n",
       " 'Lot 5 East Drive': 14,\n",
       " 'Lot 6 Middle Drive': 18,\n",
       " 'Lot 8 Medical School': 6,\n",
       " 'Lot 9 Kendrick South': 108}"
      ]
     },
     "execution_count": 64,
     "metadata": {},
     "output_type": "execute_result"
    }
   ],
   "source": [
    "status"
   ]
  },
  {
   "cell_type": "code",
   "execution_count": 65,
   "metadata": {},
   "outputs": [],
   "source": [
    "r = requests.get(url, params=payload, timeout=timeout)"
   ]
  },
  {
   "cell_type": "code",
   "execution_count": null,
   "metadata": {},
   "outputs": [],
   "source": []
  }
 ],
 "metadata": {
  "kernelspec": {
   "display_name": "Python 3",
   "language": "python",
   "name": "python3"
  },
  "language_info": {
   "codemirror_mode": {
    "name": "ipython",
    "version": 3
   },
   "file_extension": ".py",
   "mimetype": "text/x-python",
   "name": "python",
   "nbconvert_exporter": "python",
   "pygments_lexer": "ipython3",
   "version": "3.5.2"
  }
 },
 "nbformat": 4,
 "nbformat_minor": 2
}
